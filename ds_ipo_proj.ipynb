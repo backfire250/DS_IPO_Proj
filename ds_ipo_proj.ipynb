{
 "cells": [
  {
   "cell_type": "markdown",
   "metadata": {},
   "source": [
    "# Predicting listing gains in the Indian IPO market using Tensorflow\n",
    "\n",
    "### Let's pretend we're working for an investment firm that's interested in investing in the IPO in the Indian market. My goal is to build a deep learning classification model to determine if there will be listing gains for the IPO (% increase in the share price of a company from its IPO issue price on the day of listing)."
   ]
  },
  {
   "cell_type": "markdown",
   "metadata": {},
   "source": [
    "## Importing libraries and loading the data"
   ]
  },
  {
   "cell_type": "code",
   "execution_count": 1,
   "metadata": {},
   "outputs": [],
   "source": [
    "import numpy as np \n",
    "import pandas as pd \n",
    "import seaborn as sns\n",
    "import matplotlib.pyplot as plt\n",
    "import tensorflow as tf\n",
    "\n",
    "from tensorflow import keras\n",
    "from tensorflow.keras import layers\n",
    "from sklearn.model_selection import train_test_split\n",
    "from sklearn.metrics import r2_score"
   ]
  },
  {
   "cell_type": "code",
   "execution_count": 2,
   "metadata": {},
   "outputs": [],
   "source": [
    "df = pd.read_csv('Indian_IPO_Market_Data.csv')"
   ]
  },
  {
   "cell_type": "markdown",
   "metadata": {},
   "source": [
    "## Exploring the data"
   ]
  },
  {
   "cell_type": "code",
   "execution_count": 3,
   "metadata": {},
   "outputs": [
    {
     "data": {
      "text/html": [
       "<div>\n",
       "<style scoped>\n",
       "    .dataframe tbody tr th:only-of-type {\n",
       "        vertical-align: middle;\n",
       "    }\n",
       "\n",
       "    .dataframe tbody tr th {\n",
       "        vertical-align: top;\n",
       "    }\n",
       "\n",
       "    .dataframe thead th {\n",
       "        text-align: right;\n",
       "    }\n",
       "</style>\n",
       "<table border=\"1\" class=\"dataframe\">\n",
       "  <thead>\n",
       "    <tr style=\"text-align: right;\">\n",
       "      <th></th>\n",
       "      <th>Date</th>\n",
       "      <th>IPOName</th>\n",
       "      <th>Issue_Size</th>\n",
       "      <th>Subscription_QIB</th>\n",
       "      <th>Subscription_HNI</th>\n",
       "      <th>Subscription_RII</th>\n",
       "      <th>Subscription_Total</th>\n",
       "      <th>Issue_Price</th>\n",
       "      <th>Listing_Gains_Percent</th>\n",
       "    </tr>\n",
       "  </thead>\n",
       "  <tbody>\n",
       "    <tr>\n",
       "      <th>0</th>\n",
       "      <td>03/02/10</td>\n",
       "      <td>Infinite Comp</td>\n",
       "      <td>189.80</td>\n",
       "      <td>48.44</td>\n",
       "      <td>106.02</td>\n",
       "      <td>11.08</td>\n",
       "      <td>43.22</td>\n",
       "      <td>165</td>\n",
       "      <td>11.82</td>\n",
       "    </tr>\n",
       "    <tr>\n",
       "      <th>1</th>\n",
       "      <td>08/02/10</td>\n",
       "      <td>Jubilant Food</td>\n",
       "      <td>328.70</td>\n",
       "      <td>59.39</td>\n",
       "      <td>51.95</td>\n",
       "      <td>3.79</td>\n",
       "      <td>31.11</td>\n",
       "      <td>145</td>\n",
       "      <td>-84.21</td>\n",
       "    </tr>\n",
       "    <tr>\n",
       "      <th>2</th>\n",
       "      <td>15/02/10</td>\n",
       "      <td>Syncom Health</td>\n",
       "      <td>56.25</td>\n",
       "      <td>0.99</td>\n",
       "      <td>16.60</td>\n",
       "      <td>6.25</td>\n",
       "      <td>5.17</td>\n",
       "      <td>75</td>\n",
       "      <td>17.13</td>\n",
       "    </tr>\n",
       "    <tr>\n",
       "      <th>3</th>\n",
       "      <td>15/02/10</td>\n",
       "      <td>Vascon Engineer</td>\n",
       "      <td>199.80</td>\n",
       "      <td>1.12</td>\n",
       "      <td>3.65</td>\n",
       "      <td>0.62</td>\n",
       "      <td>1.22</td>\n",
       "      <td>165</td>\n",
       "      <td>-11.28</td>\n",
       "    </tr>\n",
       "    <tr>\n",
       "      <th>4</th>\n",
       "      <td>19/02/10</td>\n",
       "      <td>Thangamayil</td>\n",
       "      <td>0.00</td>\n",
       "      <td>0.52</td>\n",
       "      <td>1.52</td>\n",
       "      <td>2.26</td>\n",
       "      <td>1.12</td>\n",
       "      <td>75</td>\n",
       "      <td>-5.20</td>\n",
       "    </tr>\n",
       "  </tbody>\n",
       "</table>\n",
       "</div>"
      ],
      "text/plain": [
       "      Date           IPOName  Issue_Size  Subscription_QIB  Subscription_HNI  \\\n",
       "0  03/02/10    Infinite Comp      189.80             48.44            106.02   \n",
       "1  08/02/10    Jubilant Food      328.70             59.39             51.95   \n",
       "2  15/02/10    Syncom Health       56.25              0.99             16.60   \n",
       "3  15/02/10  Vascon Engineer      199.80              1.12              3.65   \n",
       "4  19/02/10      Thangamayil        0.00              0.52              1.52   \n",
       "\n",
       "   Subscription_RII  Subscription_Total  Issue_Price  Listing_Gains_Percent  \n",
       "0             11.08               43.22          165                  11.82  \n",
       "1              3.79               31.11          145                 -84.21  \n",
       "2              6.25                5.17           75                  17.13  \n",
       "3              0.62                1.22          165                 -11.28  \n",
       "4              2.26                1.12           75                  -5.20  "
      ]
     },
     "execution_count": 3,
     "metadata": {},
     "output_type": "execute_result"
    }
   ],
   "source": [
    "df.head()"
   ]
  },
  {
   "cell_type": "code",
   "execution_count": 4,
   "metadata": {},
   "outputs": [
    {
     "name": "stdout",
     "output_type": "stream",
     "text": [
      "(319, 9)\n"
     ]
    }
   ],
   "source": [
    "print(df.shape) # 319 rows and 9 columns in our dataset"
   ]
  },
  {
   "cell_type": "code",
   "execution_count": 5,
   "metadata": {},
   "outputs": [
    {
     "data": {
      "text/html": [
       "<div>\n",
       "<style scoped>\n",
       "    .dataframe tbody tr th:only-of-type {\n",
       "        vertical-align: middle;\n",
       "    }\n",
       "\n",
       "    .dataframe tbody tr th {\n",
       "        vertical-align: top;\n",
       "    }\n",
       "\n",
       "    .dataframe thead th {\n",
       "        text-align: right;\n",
       "    }\n",
       "</style>\n",
       "<table border=\"1\" class=\"dataframe\">\n",
       "  <thead>\n",
       "    <tr style=\"text-align: right;\">\n",
       "      <th></th>\n",
       "      <th>Issue_Size</th>\n",
       "      <th>Subscription_QIB</th>\n",
       "      <th>Subscription_HNI</th>\n",
       "      <th>Subscription_RII</th>\n",
       "      <th>Subscription_Total</th>\n",
       "      <th>Issue_Price</th>\n",
       "      <th>Listing_Gains_Percent</th>\n",
       "    </tr>\n",
       "  </thead>\n",
       "  <tbody>\n",
       "    <tr>\n",
       "      <th>count</th>\n",
       "      <td>319.000000</td>\n",
       "      <td>319.000000</td>\n",
       "      <td>319.000000</td>\n",
       "      <td>319.000000</td>\n",
       "      <td>319.000000</td>\n",
       "      <td>319.000000</td>\n",
       "      <td>319.000000</td>\n",
       "    </tr>\n",
       "    <tr>\n",
       "      <th>mean</th>\n",
       "      <td>1192.859969</td>\n",
       "      <td>25.684138</td>\n",
       "      <td>70.091379</td>\n",
       "      <td>8.561599</td>\n",
       "      <td>27.447147</td>\n",
       "      <td>375.128527</td>\n",
       "      <td>4.742696</td>\n",
       "    </tr>\n",
       "    <tr>\n",
       "      <th>std</th>\n",
       "      <td>2384.643786</td>\n",
       "      <td>40.716782</td>\n",
       "      <td>142.454416</td>\n",
       "      <td>14.508670</td>\n",
       "      <td>48.772203</td>\n",
       "      <td>353.897614</td>\n",
       "      <td>47.650946</td>\n",
       "    </tr>\n",
       "    <tr>\n",
       "      <th>min</th>\n",
       "      <td>0.000000</td>\n",
       "      <td>0.000000</td>\n",
       "      <td>0.000000</td>\n",
       "      <td>0.000000</td>\n",
       "      <td>0.000000</td>\n",
       "      <td>0.000000</td>\n",
       "      <td>-97.150000</td>\n",
       "    </tr>\n",
       "    <tr>\n",
       "      <th>25%</th>\n",
       "      <td>169.005000</td>\n",
       "      <td>1.150000</td>\n",
       "      <td>1.255000</td>\n",
       "      <td>1.275000</td>\n",
       "      <td>1.645000</td>\n",
       "      <td>119.000000</td>\n",
       "      <td>-11.555000</td>\n",
       "    </tr>\n",
       "    <tr>\n",
       "      <th>50%</th>\n",
       "      <td>496.250000</td>\n",
       "      <td>4.940000</td>\n",
       "      <td>5.070000</td>\n",
       "      <td>3.420000</td>\n",
       "      <td>4.930000</td>\n",
       "      <td>250.000000</td>\n",
       "      <td>1.810000</td>\n",
       "    </tr>\n",
       "    <tr>\n",
       "      <th>75%</th>\n",
       "      <td>1100.000000</td>\n",
       "      <td>34.635000</td>\n",
       "      <td>62.095000</td>\n",
       "      <td>8.605000</td>\n",
       "      <td>33.395000</td>\n",
       "      <td>536.000000</td>\n",
       "      <td>25.310000</td>\n",
       "    </tr>\n",
       "    <tr>\n",
       "      <th>max</th>\n",
       "      <td>21000.000000</td>\n",
       "      <td>215.450000</td>\n",
       "      <td>958.070000</td>\n",
       "      <td>119.440000</td>\n",
       "      <td>326.490000</td>\n",
       "      <td>2150.000000</td>\n",
       "      <td>270.400000</td>\n",
       "    </tr>\n",
       "  </tbody>\n",
       "</table>\n",
       "</div>"
      ],
      "text/plain": [
       "         Issue_Size  Subscription_QIB  Subscription_HNI  Subscription_RII  \\\n",
       "count    319.000000        319.000000        319.000000        319.000000   \n",
       "mean    1192.859969         25.684138         70.091379          8.561599   \n",
       "std     2384.643786         40.716782        142.454416         14.508670   \n",
       "min        0.000000          0.000000          0.000000          0.000000   \n",
       "25%      169.005000          1.150000          1.255000          1.275000   \n",
       "50%      496.250000          4.940000          5.070000          3.420000   \n",
       "75%     1100.000000         34.635000         62.095000          8.605000   \n",
       "max    21000.000000        215.450000        958.070000        119.440000   \n",
       "\n",
       "       Subscription_Total  Issue_Price  Listing_Gains_Percent  \n",
       "count          319.000000   319.000000             319.000000  \n",
       "mean            27.447147   375.128527               4.742696  \n",
       "std             48.772203   353.897614              47.650946  \n",
       "min              0.000000     0.000000             -97.150000  \n",
       "25%              1.645000   119.000000             -11.555000  \n",
       "50%              4.930000   250.000000               1.810000  \n",
       "75%             33.395000   536.000000              25.310000  \n",
       "max            326.490000  2150.000000             270.400000  "
      ]
     },
     "execution_count": 5,
     "metadata": {},
     "output_type": "execute_result"
    }
   ],
   "source": [
    "df.describe()"
   ]
  },
  {
   "cell_type": "code",
   "execution_count": 6,
   "metadata": {},
   "outputs": [
    {
     "data": {
      "text/plain": [
       "Date                     0\n",
       "IPOName                  0\n",
       "Issue_Size               0\n",
       "Subscription_QIB         0\n",
       "Subscription_HNI         0\n",
       "Subscription_RII         0\n",
       "Subscription_Total       0\n",
       "Issue_Price              0\n",
       "Listing_Gains_Percent    0\n",
       "dtype: int64"
      ]
     },
     "execution_count": 6,
     "metadata": {},
     "output_type": "execute_result"
    }
   ],
   "source": [
    "# Checking for any missing values in our dataset\n",
    "df.isnull().sum()"
   ]
  },
  {
   "cell_type": "code",
   "execution_count": 7,
   "metadata": {},
   "outputs": [],
   "source": [
    "# I want to create a categorical variable here to show whether a profit was made or not for each IPO\n",
    "df['Listing_Gains_Profit'] = df['Listing_Gains_Percent'].apply(lambda x: 1 if x > 0 else 0)"
   ]
  },
  {
   "cell_type": "code",
   "execution_count": 8,
   "metadata": {},
   "outputs": [
    {
     "data": {
      "text/plain": [
       "1    0.545455\n",
       "0    0.454545\n",
       "Name: Listing_Gains_Profit, dtype: float64"
      ]
     },
     "execution_count": 8,
     "metadata": {},
     "output_type": "execute_result"
    }
   ],
   "source": [
    "# It looks like only 54% of IPOs here listed a profit\n",
    "df['Listing_Gains_Profit'].value_counts(normalize=True)"
   ]
  },
  {
   "cell_type": "code",
   "execution_count": 9,
   "metadata": {},
   "outputs": [
    {
     "name": "stderr",
     "output_type": "stream",
     "text": [
      "/tmp/ipykernel_88/708988005.py:2: FutureWarning: The default value of numeric_only in DataFrame.corr is deprecated. In a future version, it will default to False. Select only valid columns or specify the value of numeric_only to silence this warning.\n",
      "  df.corr()['Listing_Gains_Profit']\n"
     ]
    },
    {
     "data": {
      "text/plain": [
       "Issue_Size               0.004717\n",
       "Subscription_QIB         0.323499\n",
       "Subscription_HNI         0.271879\n",
       "Subscription_RII         0.240842\n",
       "Subscription_Total       0.283340\n",
       "Issue_Price              0.039548\n",
       "Listing_Gains_Percent    0.673510\n",
       "Listing_Gains_Profit     1.000000\n",
       "Name: Listing_Gains_Profit, dtype: float64"
      ]
     },
     "execution_count": 9,
     "metadata": {},
     "output_type": "execute_result"
    }
   ],
   "source": [
    "# Let's see what numeric variables correlate with our target variable\n",
    "df.corr()['Listing_Gains_Profit']\n",
    "\n",
    "# Issue_Size and Issue_Price don't really seem to be that relevant"
   ]
  },
  {
   "cell_type": "code",
   "execution_count": 10,
   "metadata": {},
   "outputs": [
    {
     "data": {
      "text/plain": [
       "<AxesSubplot: >"
      ]
     },
     "execution_count": 10,
     "metadata": {},
     "output_type": "execute_result"
    },
    {
     "data": {
      "image/png": "[encoded data removed]",
      "text/plain": [
       "<Figure size 640x480 with 2 Axes>"
      ]
     },
     "metadata": {},
     "output_type": "display_data"
    }
   ],
   "source": [
    "# Let's create a heatmap to see how our predictor and target variables correlate\n",
    "cmap = sns.diverging_palette(220, 10, as_cmap=True)\n",
    "sns.heatmap(df[['Subscription_QIB', 'Subscription_HNI', 'Subscription_RII', 'Subscription_Total', 'Listing_Gains_Profit']].corr(), cmap=cmap, vmax=1, center=0,\n",
    "                        square=True, linewidths=.5, cbar_kws={\"shrink\": .5})"
   ]
  },
  {
   "cell_type": "code",
   "execution_count": 11,
   "metadata": {},
   "outputs": [
    {
     "data": {
      "image/png": "[encoded data removed]",
      "text/plain": [
       "<Figure size 640x480 with 2 Axes>"
      ]
     },
     "metadata": {},
     "output_type": "display_data"
    },
    {
     "data": {
      "image/png": "[encoded data removed]",
      "text/plain": [
       "<Figure size 640x480 with 2 Axes>"
      ]
     },
     "metadata": {},
     "output_type": "display_data"
    }
   ],
   "source": [
    "# In the same vein, I wonder how the correlations differ between outcome classes\n",
    "profitable_df = df[df['Listing_Gains_Profit'] == 1]\n",
    "not_profitable_df = df[df['Listing_Gains_Profit'] == 0]\n",
    "\n",
    "cmap = sns.diverging_palette(220, 10, as_cmap=True)\n",
    "sns.heatmap(profitable_df[['Subscription_QIB', 'Subscription_HNI', 'Subscription_RII', 'Subscription_Total']].corr(), cmap=cmap, vmax=1, center=0,\n",
    "                        square=True, linewidths=.5, cbar_kws={\"shrink\": .5})\n",
    "plt.title('Heatmap of correlations for profitable IPOs')\n",
    "plt.show()\n",
    "\n",
    "cmap = sns.diverging_palette(220, 10, as_cmap=True)\n",
    "sns.heatmap(not_profitable_df[['Subscription_QIB', 'Subscription_HNI', 'Subscription_RII', 'Subscription_Total']].corr(), cmap=cmap, vmax=1, center=0,\n",
    "                        square=True, linewidths=.5, cbar_kws={\"shrink\": .5})\n",
    "plt.title('Heatmap of correlations for not profitable IPOs')\n",
    "plt.show()"
   ]
  },
  {
   "cell_type": "code",
   "execution_count": 12,
   "metadata": {},
   "outputs": [
    {
     "name": "stdout",
     "output_type": "stream",
     "text": [
      "                    Subscription_QIB  Subscription_HNI  Subscription_RII  \\\n",
      "Subscription_QIB            1.000000          0.769896          0.407021   \n",
      "Subscription_HNI            0.769896          1.000000          0.587334   \n",
      "Subscription_RII            0.407021          0.587334          1.000000   \n",
      "Subscription_Total          0.838402          0.958021          0.692674   \n",
      "\n",
      "                    Subscription_Total  \n",
      "Subscription_QIB              0.838402  \n",
      "Subscription_HNI              0.958021  \n",
      "Subscription_RII              0.692674  \n",
      "Subscription_Total            1.000000  \n",
      "                    Subscription_QIB  Subscription_HNI  Subscription_RII  \\\n",
      "Subscription_QIB            1.000000          0.679831          0.315976   \n",
      "Subscription_HNI            0.679831          1.000000          0.662222   \n",
      "Subscription_RII            0.315976          0.662222          1.000000   \n",
      "Subscription_Total          0.629869          0.941589          0.753048   \n",
      "\n",
      "                    Subscription_Total  \n",
      "Subscription_QIB              0.629869  \n",
      "Subscription_HNI              0.941589  \n",
      "Subscription_RII              0.753048  \n",
      "Subscription_Total            1.000000  \n"
     ]
    }
   ],
   "source": [
    "# It's difficult to tell from the heatmap, so let's look at the numbers\n",
    "print(profitable_df[['Subscription_QIB', 'Subscription_HNI', 'Subscription_RII', 'Subscription_Total']].corr())\n",
    "print(not_profitable_df[['Subscription_QIB', 'Subscription_HNI', 'Subscription_RII', 'Subscription_Total']].corr())"
   ]
  },
  {
   "cell_type": "markdown",
   "metadata": {},
   "source": [
    "##### It looks like our profitable IPOs have a higher correlation between predictor variables than our not profitable IPOs, but not in all cases"
   ]
  },
  {
   "cell_type": "code",
   "execution_count": 13,
   "metadata": {},
   "outputs": [
    {
     "data": {
      "text/plain": [
       "([<matplotlib.axis.XTick at 0x7b9ac8f8b310>,\n",
       "  <matplotlib.axis.XTick at 0x7b9ac8f8b2e0>],\n",
       " [Text(0, 0, 'Not profitable'), Text(1, 0, 'Profitable')])"
      ]
     },
     "execution_count": 13,
     "metadata": {},
     "output_type": "execute_result"
    },
    {
     "data": {
      "image/png": "[encoded data removed]",
      "text/plain": [
       "<Figure size 640x480 with 1 Axes>"
      ]
     },
     "metadata": {},
     "output_type": "display_data"
    }
   ],
   "source": [
    "# Let's check out how our target is distributed\n",
    "sns.countplot(data = df, x = 'Listing_Gains_Profit')\n",
    "plt.title('IPOs with a profit listed')\n",
    "plt.xticks(ticks= [0, 1],\n",
    "           labels=['Not profitable', 'Profitable'])"
   ]
  },
  {
   "cell_type": "code",
   "execution_count": 14,
   "metadata": {},
   "outputs": [
    {
     "name": "stdout",
     "output_type": "stream",
     "text": [
      "2.143704625584823\n",
      "3.0784448213212667\n",
      "3.7082740836630137\n",
      "2.9119071381074786\n"
     ]
    }
   ],
   "source": [
    "# Checking for outliers in our predictor variables with .skew()\n",
    "print(df['Subscription_QIB'].skew())\n",
    "print(df['Subscription_HNI'].skew())\n",
    "print(df['Subscription_RII'].skew())\n",
    "print(df['Subscription_Total'].skew())"
   ]
  },
  {
   "cell_type": "code",
   "execution_count": 15,
   "metadata": {},
   "outputs": [
    {
     "data": {
      "image/png": "[encoded data removed]",
      "text/plain": [
       "<Figure size 640x480 with 1 Axes>"
      ]
     },
     "metadata": {},
     "output_type": "display_data"
    },
    {
     "data": {
      "image/png": "[encoded data removed]",
      "text/plain": [
       "<Figure size 640x480 with 1 Axes>"
      ]
     },
     "metadata": {},
     "output_type": "display_data"
    },
    {
     "data": {
      "image/png": "[encoded data removed]",
      "text/plain": [
       "<Figure size 640x480 with 1 Axes>"
      ]
     },
     "metadata": {},
     "output_type": "display_data"
    },
    {
     "data": {
      "image/png": "[encoded data removed]",
      "text/plain": [
       "<Figure size 640x480 with 1 Axes>"
      ]
     },
     "metadata": {},
     "output_type": "display_data"
    }
   ],
   "source": [
    "# The skew values are all higher than 1 indicating that there may be significant outliers. Let's take a closer look and see what we can find.\n",
    "predictors = ['Subscription_QIB', 'Subscription_HNI', 'Subscription_RII', 'Subscription_Total']\n",
    "\n",
    "for predictor in predictors:\n",
    "    sns.boxplot(data = df, y = predictor)\n",
    "    plt.title(f\"Outliers for {predictor} variable\")\n",
    "    plt.show()"
   ]
  },
  {
   "cell_type": "code",
   "execution_count": 16,
   "metadata": {},
   "outputs": [
    {
     "name": "stdout",
     "output_type": "stream",
     "text": [
      "Number of outliers for Subscription_QIB: 35.\n",
      "Number of outliers for Subscription_HNI: 48.\n",
      "Number of outliers for Subscription_RII: 33.\n",
      "Number of outliers for Subscription_Total: 31.\n"
     ]
    }
   ],
   "source": [
    "# It looks like we have a decent amount of outliers in each of the 4 predictor variables. Let's take a look to see how many we have.\n",
    "for predictor in predictors:\n",
    "    q1 = df[predictor].quantile(q=0.25)\n",
    "    q3 = df[predictor].quantile(q=0.75)\n",
    "    iqr = q3 - q1\n",
    "    lower = (q1 - 1.5 * iqr)\n",
    "    upper = (q3 + 1.5 * iqr)\n",
    "\n",
    "    num_outliers = df[df[predictor] > upper].shape[0] + df[df[predictor] < lower].shape[0] # checking to see if there are any values below 0 for our subscription #s, which there are not\n",
    "    print(f\"Number of outliers for {predictor}: {num_outliers}.\")"
   ]
  },
  {
   "cell_type": "markdown",
   "metadata": {},
   "source": [
    "### In our EDA, we found:\n",
    "    * There are a decent number of outliers for each of our predictor variables\n",
    "    * About 54% of IPOs were listed as profitable\n",
    "    * Profitable IPOs had a slightly higher correlation between their predictor variables than IPOs that were not profitable"
   ]
  },
  {
   "cell_type": "markdown",
   "metadata": {},
   "source": [
    "## Data Cleaning"
   ]
  },
  {
   "cell_type": "code",
   "execution_count": 17,
   "metadata": {},
   "outputs": [
    {
     "name": "stdout",
     "output_type": "stream",
     "text": [
      "0\n",
      "48\n",
      "33\n",
      "31\n",
      "0\n",
      "0\n",
      "33\n",
      "31\n",
      "0\n",
      "0\n",
      "0\n",
      "31\n",
      "0\n",
      "0\n",
      "0\n",
      "0\n"
     ]
    }
   ],
   "source": [
    "# Let's do something about these outliers by replacing the upper outliers with the upper bound of each variable\n",
    "for predictor in predictors:\n",
    "    q1 = df[predictor].quantile(q=0.25)\n",
    "    q3 = df[predictor].quantile(q=0.75)\n",
    "    iqr = q3 - q1\n",
    "    lower = (q1 - 1.5 * iqr)\n",
    "    upper = (q3 + 1.5 * iqr)\n",
    "\n",
    "    df[predictor] = np.where(df[predictor] > upper, upper, df[predictor])\n",
    "\n",
    "# Now let's check the number of outliers again\n",
    "    print(df[df['Subscription_QIB'] > 84.86250000000001].shape[0])\n",
    "    print(df[df['Subscription_HNI'] > 153.355].shape[0])\n",
    "    print(df[df['Subscription_RII'] > 19.6].shape[0])\n",
    "    print(df[df['Subscription_Total'] > 81.01999999999998].shape[0])"
   ]
  },
  {
   "cell_type": "code",
   "execution_count": 18,
   "metadata": {},
   "outputs": [
    {
     "data": {
      "text/html": [
       "<div>\n",
       "<style scoped>\n",
       "    .dataframe tbody tr th:only-of-type {\n",
       "        vertical-align: middle;\n",
       "    }\n",
       "\n",
       "    .dataframe tbody tr th {\n",
       "        vertical-align: top;\n",
       "    }\n",
       "\n",
       "    .dataframe thead th {\n",
       "        text-align: right;\n",
       "    }\n",
       "</style>\n",
       "<table border=\"1\" class=\"dataframe\">\n",
       "  <thead>\n",
       "    <tr style=\"text-align: right;\">\n",
       "      <th></th>\n",
       "      <th>Subscription_RII</th>\n",
       "      <th>Subscription_QIB</th>\n",
       "      <th>Subscription_HNI</th>\n",
       "      <th>Subscription_Total</th>\n",
       "    </tr>\n",
       "  </thead>\n",
       "  <tbody>\n",
       "    <tr>\n",
       "      <th>count</th>\n",
       "      <td>319.000000</td>\n",
       "      <td>319.000000</td>\n",
       "      <td>319.000000</td>\n",
       "      <td>319.000000</td>\n",
       "    </tr>\n",
       "    <tr>\n",
       "      <th>mean</th>\n",
       "      <td>0.309232</td>\n",
       "      <td>0.253601</td>\n",
       "      <td>0.263157</td>\n",
       "      <td>0.252489</td>\n",
       "    </tr>\n",
       "    <tr>\n",
       "      <th>std</th>\n",
       "      <td>0.315147</td>\n",
       "      <td>0.342961</td>\n",
       "      <td>0.374477</td>\n",
       "      <td>0.335939</td>\n",
       "    </tr>\n",
       "    <tr>\n",
       "      <th>min</th>\n",
       "      <td>0.000000</td>\n",
       "      <td>0.000000</td>\n",
       "      <td>0.000000</td>\n",
       "      <td>0.000000</td>\n",
       "    </tr>\n",
       "    <tr>\n",
       "      <th>25%</th>\n",
       "      <td>0.065051</td>\n",
       "      <td>0.013551</td>\n",
       "      <td>0.008184</td>\n",
       "      <td>0.020304</td>\n",
       "    </tr>\n",
       "    <tr>\n",
       "      <th>50%</th>\n",
       "      <td>0.174490</td>\n",
       "      <td>0.058212</td>\n",
       "      <td>0.033061</td>\n",
       "      <td>0.060849</td>\n",
       "    </tr>\n",
       "    <tr>\n",
       "      <th>75%</th>\n",
       "      <td>0.439031</td>\n",
       "      <td>0.408131</td>\n",
       "      <td>0.404910</td>\n",
       "      <td>0.412182</td>\n",
       "    </tr>\n",
       "    <tr>\n",
       "      <th>max</th>\n",
       "      <td>1.000000</td>\n",
       "      <td>1.000000</td>\n",
       "      <td>1.000000</td>\n",
       "      <td>1.000000</td>\n",
       "    </tr>\n",
       "  </tbody>\n",
       "</table>\n",
       "</div>"
      ],
      "text/plain": [
       "       Subscription_RII  Subscription_QIB  Subscription_HNI  \\\n",
       "count        319.000000        319.000000        319.000000   \n",
       "mean           0.309232          0.253601          0.263157   \n",
       "std            0.315147          0.342961          0.374477   \n",
       "min            0.000000          0.000000          0.000000   \n",
       "25%            0.065051          0.013551          0.008184   \n",
       "50%            0.174490          0.058212          0.033061   \n",
       "75%            0.439031          0.408131          0.404910   \n",
       "max            1.000000          1.000000          1.000000   \n",
       "\n",
       "       Subscription_Total  \n",
       "count          319.000000  \n",
       "mean             0.252489  \n",
       "std              0.335939  \n",
       "min              0.000000  \n",
       "25%              0.020304  \n",
       "50%              0.060849  \n",
       "75%              0.412182  \n",
       "max              1.000000  "
      ]
     },
     "execution_count": 18,
     "metadata": {},
     "output_type": "execute_result"
    }
   ],
   "source": [
    "# Now that we've dealt with the outliers in our predictor variables, let's move on to officially setting our target and predictor variables and do some scaling\n",
    "\n",
    "# create an array of the target variable\n",
    "target_variable = ['Listing_Gains_Profit']\n",
    "\n",
    "# create an array of the predictor variables\n",
    "pred_list = list(set(list(df[predictors].columns)) - set(target_variable))\n",
    "\n",
    "# scale the predictor variables between 0 and 1\n",
    "df[pred_list] = df[pred_list] / df[pred_list].max()\n",
    "\n",
    "# check to see if our scaling worked\n",
    "df[pred_list].describe()"
   ]
  },
  {
   "cell_type": "code",
   "execution_count": 19,
   "metadata": {},
   "outputs": [
    {
     "name": "stdout",
     "output_type": "stream",
     "text": [
      "(223, 4) (96, 4)\n"
     ]
    }
   ],
   "source": [
    "# Using the holdout validation approach\n",
    "X = df[pred_list].values\n",
    "y = df[target_variable].values\n",
    "\n",
    "X_train, X_test, y_train, y_test = train_test_split(X, y, test_size = 0.3, random_state = 47)\n",
    "print(X_train.shape, X_test.shape)"
   ]
  },
  {
   "cell_type": "markdown",
   "metadata": {},
   "source": [
    "##### The deep learning classification model will be fit to the training set, and predictive ability will be assessed on the test set\n",
    "##### Above, I've split the data into training and test sets with a 30% test size. I then confirmed the number of features and observations in each set"
   ]
  },
  {
   "cell_type": "markdown",
   "metadata": {},
   "source": [
    "## Model Building And Evaluation"
   ]
  },
  {
   "cell_type": "code",
   "execution_count": 20,
   "metadata": {},
   "outputs": [
    {
     "name": "stdout",
     "output_type": "stream",
     "text": [
      "7/7 [==============================] - 0s 943us/step - loss: 0.4631 - mae: 0.4631\n",
      "3/3 [==============================] - 0s 1ms/step - loss: 0.4777 - mae: 0.4777\n",
      "7/7 [==============================] - 0s 817us/step\n",
      "3/3 [==============================] - 0s 1ms/step\n",
      "-0.3783713210646056 -0.4273964089122897\n"
     ]
    }
   ],
   "source": [
    "model = tf.keras.Sequential()\n",
    "\n",
    "model.add(tf.keras.layers.Dense(32, input_shape = (X_train.shape[1],), activation = 'relu'))\n",
    "model.add(tf.keras.layers.Dense(16, activation = 'relu'))\n",
    "model.add(tf.keras.layers.Dense(8, activation = 'relu'))\n",
    "model.add(tf.keras.layers.Dense(4, activation = 'relu'))\n",
    "model.add(tf.keras.layers.Dense(1))\n",
    "\n",
    "# Now I'll compile the model and pick an optimizer\n",
    "optimizer = tf.keras.optimizers.Adam(learning_rate = 0.1)\n",
    "\n",
    "model.compile(loss = 'mae', metrics = 'mae', optimizer = optimizer)\n",
    "model.fit(X_train, y_train, epochs = 150, verbose = 0)\n",
    "\n",
    "# Let's evaluate our first attempt at a model\n",
    "model.evaluate(X_train, y_train)\n",
    "model.evaluate(X_test, y_test)\n",
    "\n",
    "pred_train = model.predict(X_train)\n",
    "pred_test = model.predict(X_test)\n",
    "\n",
    "r2_train = r2_score(y_train, pred_train)\n",
    "r2_test = r2_score(y_test, pred_test)\n",
    "\n",
    "print(r2_train, r2_test)"
   ]
  },
  {
   "cell_type": "code",
   "execution_count": 21,
   "metadata": {},
   "outputs": [
    {
     "name": "stdout",
     "output_type": "stream",
     "text": [
      "7/7 [==============================] - 0s 1ms/step - loss: 0.4569 - mae: 0.4569\n",
      "3/3 [==============================] - 0s 2ms/step - loss: 0.4677 - mae: 0.4677\n",
      "7/7 [==============================] - 0s 810us/step\n",
      "3/3 [==============================] - 0s 1ms/step\n",
      "-0.18777217243000988 -0.24003850750861844\n"
     ]
    }
   ],
   "source": [
    "# This will be the same style of model but with the ELU activation function\n",
    "model = tf.keras.Sequential()\n",
    "\n",
    "model.add(tf.keras.layers.Dense(32, input_shape = (X_train.shape[1],), activation = 'elu'))\n",
    "model.add(tf.keras.layers.Dense(16, activation = 'elu'))\n",
    "model.add(tf.keras.layers.Dense(8, activation = 'elu'))\n",
    "model.add(tf.keras.layers.Dense(4, activation = 'elu'))\n",
    "model.add(tf.keras.layers.Dense(1))\n",
    "\n",
    "# Now I'll compile the model and pick an optimizer\n",
    "optimizer = tf.keras.optimizers.Adam(learning_rate = 0.1)\n",
    "\n",
    "model.compile(loss = 'mae', metrics = 'mae', optimizer = optimizer)\n",
    "model.fit(X_train, y_train, epochs = 150, verbose = 0)\n",
    "\n",
    "# Let's evaluate our first attempt at a model\n",
    "model.evaluate(X_train, y_train)\n",
    "model.evaluate(X_test, y_test)\n",
    "\n",
    "pred_train = model.predict(X_train)\n",
    "pred_test = model.predict(X_test)\n",
    "\n",
    "r2_train = r2_score(y_train, pred_train)\n",
    "r2_test = r2_score(y_test, pred_test)\n",
    "\n",
    "print(r2_train, r2_test)"
   ]
  },
  {
   "cell_type": "code",
   "execution_count": 22,
   "metadata": {},
   "outputs": [
    {
     "name": "stdout",
     "output_type": "stream",
     "text": [
      "7/7 [==============================] - 0s 964us/step - loss: 0.3777 - mae: 0.3777\n",
      "3/3 [==============================] - 0s 1ms/step - loss: 0.4274 - mae: 0.4274\n",
      "7/7 [==============================] - 0s 861us/step\n",
      "3/3 [==============================] - 0s 1ms/step\n",
      "-0.3257950310101023 -0.579314685272128\n"
     ]
    }
   ],
   "source": [
    "# This will be the same style of model but with a mix of ELU and ReLU activation functions\n",
    "model = tf.keras.Sequential()\n",
    "\n",
    "model.add(tf.keras.layers.Dense(32, input_shape = (X_train.shape[1],), activation = 'relu'))\n",
    "model.add(tf.keras.layers.Dense(16, activation = 'relu'))\n",
    "model.add(tf.keras.layers.Dense(8, activation = 'elu'))\n",
    "model.add(tf.keras.layers.Dense(4, activation = 'elu'))\n",
    "model.add(tf.keras.layers.Dense(1))\n",
    "\n",
    "# Now I'll compile the model and pick an optimizer\n",
    "optimizer = tf.keras.optimizers.Adam(learning_rate = 0.1)\n",
    "\n",
    "model.compile(loss = 'mae', metrics = 'mae', optimizer = optimizer)\n",
    "model.fit(X_train, y_train, epochs = 150, verbose = 0)\n",
    "\n",
    "# Let's evaluate our first attempt at a model\n",
    "model.evaluate(X_train, y_train)\n",
    "model.evaluate(X_test, y_test)\n",
    "\n",
    "pred_train = model.predict(X_train)\n",
    "pred_test = model.predict(X_test)\n",
    "\n",
    "r2_train = r2_score(y_train, pred_train)\n",
    "r2_test = r2_score(y_test, pred_test)\n",
    "\n",
    "print(r2_train, r2_test)"
   ]
  },
  {
   "cell_type": "code",
   "execution_count": 23,
   "metadata": {},
   "outputs": [
    {
     "name": "stdout",
     "output_type": "stream",
     "text": [
      "7/7 [==============================] - 0s 1ms/step - loss: 0.4552 - mae: 0.4552\n",
      "3/3 [==============================] - 0s 1ms/step - loss: 0.4728 - mae: 0.4728\n",
      "7/7 [==============================] - 0s 1ms/step\n",
      "3/3 [==============================] - 0s 1ms/step\n",
      "-0.5935676665985314 -0.6537440721306826\n"
     ]
    }
   ],
   "source": [
    "# My r2 scores still aren't great, so let's try a higher number of nodes\n",
    "model = tf.keras.Sequential()\n",
    "\n",
    "model.add(tf.keras.layers.Dense(500, input_shape = (X_train.shape[1],), activation = 'relu'))\n",
    "model.add(tf.keras.layers.Dense(300, activation = 'relu'))\n",
    "model.add(tf.keras.layers.Dense(100, activation = 'relu'))\n",
    "model.add(tf.keras.layers.Dense(20, activation = 'relu'))\n",
    "model.add(tf.keras.layers.Dense(1))\n",
    "\n",
    "# Now I'll compile the model and pick an optimizer\n",
    "optimizer = tf.keras.optimizers.Adam(learning_rate = 0.1)\n",
    "\n",
    "model.compile(loss = 'mae', metrics = 'mae', optimizer = optimizer)\n",
    "model.fit(X_train, y_train, epochs = 150, verbose = 0)\n",
    "\n",
    "# Let's evaluate our first attempt at a model\n",
    "model.evaluate(X_train, y_train)\n",
    "model.evaluate(X_test, y_test)\n",
    "\n",
    "pred_train = model.predict(X_train)\n",
    "pred_test = model.predict(X_test)\n",
    "\n",
    "r2_train = r2_score(y_train, pred_train)\n",
    "r2_test = r2_score(y_test, pred_test)\n",
    "\n",
    "print(r2_train, r2_test)"
   ]
  },
  {
   "cell_type": "code",
   "execution_count": 24,
   "metadata": {},
   "outputs": [
    {
     "name": "stdout",
     "output_type": "stream",
     "text": [
      "7/7 [==============================] - 0s 1ms/step - loss: 0.4792 - mae: 0.4792\n",
      "3/3 [==============================] - 0s 2ms/step - loss: 0.4874 - mae: 0.4874\n",
      "7/7 [==============================] - 0s 1ms/step\n",
      "3/3 [==============================] - 0s 1ms/step\n",
      "-0.09130972943180016 -0.11687568995203401\n"
     ]
    }
   ],
   "source": [
    "# This will be the same style of model but with the ELU activation function\n",
    "model = tf.keras.Sequential()\n",
    "\n",
    "model.add(tf.keras.layers.Dense(500, input_shape = (X_train.shape[1],), activation = 'elu'))\n",
    "model.add(tf.keras.layers.Dense(300, activation = 'elu'))\n",
    "model.add(tf.keras.layers.Dense(100, activation = 'elu'))\n",
    "model.add(tf.keras.layers.Dense(20, activation = 'elu'))\n",
    "model.add(tf.keras.layers.Dense(1))\n",
    "\n",
    "# Now I'll compile the model and pick an optimizer\n",
    "optimizer = tf.keras.optimizers.Adam(learning_rate = 0.1)\n",
    "\n",
    "model.compile(loss = 'mae', metrics = 'mae', optimizer = optimizer)\n",
    "model.fit(X_train, y_train, epochs = 150, verbose = 0)\n",
    "\n",
    "# Let's evaluate our first attempt at a model\n",
    "model.evaluate(X_train, y_train)\n",
    "model.evaluate(X_test, y_test)\n",
    "\n",
    "pred_train = model.predict(X_train)\n",
    "pred_test = model.predict(X_test)\n",
    "\n",
    "r2_train = r2_score(y_train, pred_train)\n",
    "r2_test = r2_score(y_test, pred_test)\n",
    "\n",
    "print(r2_train, r2_test)"
   ]
  },
  {
   "cell_type": "code",
   "execution_count": 25,
   "metadata": {},
   "outputs": [
    {
     "name": "stdout",
     "output_type": "stream",
     "text": [
      "7/7 [==============================] - 0s 1ms/step - loss: 0.4530 - mae: 0.4530\n",
      "3/3 [==============================] - 0s 2ms/step - loss: 0.4715 - mae: 0.4715\n",
      "7/7 [==============================] - 0s 1ms/step\n",
      "3/3 [==============================] - 0s 1ms/step\n",
      "-0.6600109602595245 -0.7231452886782719\n"
     ]
    }
   ],
   "source": [
    "# This will be the same style of model but with a mix of ELU and ReLU activation functions\n",
    "model = tf.keras.Sequential()\n",
    "\n",
    "model.add(tf.keras.layers.Dense(500, input_shape = (X_train.shape[1],), activation = 'relu'))\n",
    "model.add(tf.keras.layers.Dense(300, activation = 'relu'))\n",
    "model.add(tf.keras.layers.Dense(100, activation = 'elu'))\n",
    "model.add(tf.keras.layers.Dense(20, activation = 'elu'))\n",
    "model.add(tf.keras.layers.Dense(1))\n",
    "\n",
    "# Now I'll compile the model and pick an optimizer\n",
    "optimizer = tf.keras.optimizers.Adam(learning_rate = 0.1)\n",
    "\n",
    "model.compile(loss = 'mae', metrics = 'mae', optimizer = optimizer)\n",
    "model.fit(X_train, y_train, epochs = 150, verbose = 0)\n",
    "\n",
    "# Let's evaluate our first attempt at a model\n",
    "model.evaluate(X_train, y_train)\n",
    "model.evaluate(X_test, y_test)\n",
    "\n",
    "pred_train = model.predict(X_train)\n",
    "pred_test = model.predict(X_test)\n",
    "\n",
    "r2_train = r2_score(y_train, pred_train)\n",
    "r2_test = r2_score(y_test, pred_test)\n",
    "\n",
    "print(r2_train, r2_test)"
   ]
  },
  {
   "cell_type": "code",
   "execution_count": 26,
   "metadata": {},
   "outputs": [
    {
     "name": "stdout",
     "output_type": "stream",
     "text": [
      "7/7 [==============================] - 0s 1ms/step - loss: 0.3397 - mae: 0.3397\n",
      "3/3 [==============================] - 0s 1ms/step - loss: 0.3261 - mae: 0.3261\n",
      "7/7 [==============================] - 0s 1ms/step\n",
      "3/3 [==============================] - 0s 1ms/step\n",
      "-0.13586728698519823 -0.06919098468614471\n"
     ]
    }
   ],
   "source": [
    "# Increasing the number of nodes certainly worked, so let's try an SGD optimizer\n",
    "model = tf.keras.Sequential()\n",
    "\n",
    "model.add(tf.keras.layers.Dense(500, input_shape = (X_train.shape[1],), activation = 'relu'))\n",
    "model.add(tf.keras.layers.Dense(300, activation = 'relu'))\n",
    "model.add(tf.keras.layers.Dense(100, activation = 'relu'))\n",
    "model.add(tf.keras.layers.Dense(20, activation = 'relu'))\n",
    "model.add(tf.keras.layers.Dense(1))\n",
    "\n",
    "# Now I'll compile the model and pick an optimizer\n",
    "optimizer = tf.keras.optimizers.SGD(learning_rate = 0.1, momentum = 0.5)\n",
    "\n",
    "model.compile(loss = 'mae', metrics = 'mae', optimizer = optimizer)\n",
    "model.fit(X_train, y_train, epochs = 150, verbose = 0)\n",
    "\n",
    "# Let's evaluate our first attempt at a model\n",
    "model.evaluate(X_train, y_train)\n",
    "model.evaluate(X_test, y_test)\n",
    "\n",
    "pred_train = model.predict(X_train)\n",
    "pred_test = model.predict(X_test)\n",
    "\n",
    "r2_train = r2_score(y_train, pred_train)\n",
    "r2_test = r2_score(y_test, pred_test)\n",
    "\n",
    "print(r2_train, r2_test)"
   ]
  },
  {
   "cell_type": "code",
   "execution_count": 27,
   "metadata": {},
   "outputs": [
    {
     "name": "stdout",
     "output_type": "stream",
     "text": [
      "7/7 [==============================] - 0s 6ms/step - loss: 0.3759 - mae: 0.3759\n",
      "3/3 [==============================] - 0s 2ms/step - loss: 0.3588 - mae: 0.3588\n",
      "7/7 [==============================] - 0s 7ms/step\n",
      "3/3 [==============================] - 0s 2ms/step\n",
      "0.09471648332175797 0.1311885789723065\n"
     ]
    }
   ],
   "source": [
    "# This will be the same style of model but with the ELU activation function\n",
    "model = tf.keras.Sequential()\n",
    "\n",
    "model.add(tf.keras.layers.Dense(500, input_shape = (X_train.shape[1],), activation = 'elu'))\n",
    "model.add(tf.keras.layers.Dense(300, activation = 'elu'))\n",
    "model.add(tf.keras.layers.Dense(100, activation = 'elu'))\n",
    "model.add(tf.keras.layers.Dense(20, activation = 'elu'))\n",
    "model.add(tf.keras.layers.Dense(1))\n",
    "\n",
    "# Now I'll compile the model and pick an optimizer\n",
    "optimizer = tf.keras.optimizers.SGD(learning_rate = 0.1, momentum = 0.5)\n",
    "\n",
    "model.compile(loss = 'mae', metrics = 'mae', optimizer = optimizer)\n",
    "model.fit(X_train, y_train, epochs = 150, verbose = 0)\n",
    "\n",
    "# Let's evaluate our first attempt at a model\n",
    "model.evaluate(X_train, y_train)\n",
    "model.evaluate(X_test, y_test)\n",
    "\n",
    "pred_train = model.predict(X_train)\n",
    "pred_test = model.predict(X_test)\n",
    "\n",
    "r2_train = r2_score(y_train, pred_train)\n",
    "r2_test = r2_score(y_test, pred_test)\n",
    "\n",
    "print(r2_train, r2_test)"
   ]
  },
  {
   "cell_type": "code",
   "execution_count": 28,
   "metadata": {},
   "outputs": [
    {
     "name": "stdout",
     "output_type": "stream",
     "text": [
      "7/7 [==============================] - 0s 1ms/step - loss: 0.3648 - mae: 0.3648\n",
      "3/3 [==============================] - 0s 2ms/step - loss: 0.3606 - mae: 0.3606\n",
      "7/7 [==============================] - 0s 1ms/step\n",
      "3/3 [==============================] - 0s 1ms/step\n",
      "-0.08854832580341898 -0.10174633323019133\n"
     ]
    }
   ],
   "source": [
    "# This will be the same style of model but with a mix of ELU and ReLU activation functions\n",
    "model = tf.keras.Sequential()\n",
    "\n",
    "model.add(tf.keras.layers.Dense(500, input_shape = (X_train.shape[1],), activation = 'relu'))\n",
    "model.add(tf.keras.layers.Dense(300, activation = 'relu'))\n",
    "model.add(tf.keras.layers.Dense(100, activation = 'elu'))\n",
    "model.add(tf.keras.layers.Dense(20, activation = 'elu'))\n",
    "model.add(tf.keras.layers.Dense(1))\n",
    "\n",
    "# Now I'll compile the model and pick an optimizer\n",
    "optimizer = tf.keras.optimizers.SGD(learning_rate = 0.1, momentum = 0.5)\n",
    "\n",
    "model.compile(loss = 'mae', metrics = 'mae', optimizer = optimizer)\n",
    "model.fit(X_train, y_train, epochs = 150, verbose = 0)\n",
    "\n",
    "# Let's evaluate our first attempt at a model\n",
    "model.evaluate(X_train, y_train)\n",
    "model.evaluate(X_test, y_test)\n",
    "\n",
    "pred_train = model.predict(X_train)\n",
    "pred_test = model.predict(X_test)\n",
    "\n",
    "r2_train = r2_score(y_train, pred_train)\n",
    "r2_test = r2_score(y_test, pred_test)\n",
    "\n",
    "print(r2_train, r2_test)"
   ]
  },
  {
   "cell_type": "code",
   "execution_count": 29,
   "metadata": {},
   "outputs": [
    {
     "name": "stdout",
     "output_type": "stream",
     "text": [
      "7/7 [==============================] - 0s 8ms/step - loss: 0.4562 - mae: 0.4562\n",
      "3/3 [==============================] - 0s 2ms/step - loss: 0.4735 - mae: 0.4735\n",
      "7/7 [==============================] - 0s 1ms/step\n",
      "3/3 [==============================] - 0s 1ms/step\n",
      "-0.5626443466168896 -0.6216944156097792\n"
     ]
    }
   ],
   "source": [
    "# Finally, let's try an RMSprop (Root Mean Square propagation) optimizer\n",
    "model = tf.keras.Sequential()\n",
    "\n",
    "model.add(tf.keras.layers.Dense(500, input_shape = (X_train.shape[1],), activation = 'relu'))\n",
    "model.add(tf.keras.layers.Dense(300, activation = 'relu'))\n",
    "model.add(tf.keras.layers.Dense(100, activation = 'relu'))\n",
    "model.add(tf.keras.layers.Dense(20, activation = 'relu'))\n",
    "model.add(tf.keras.layers.Dense(1))\n",
    "\n",
    "# Now I'll compile the model and pick an optimizer\n",
    "optimizer = tf.keras.optimizers.RMSprop(learning_rate = 0.1, rho = 0.8)\n",
    "\n",
    "model.compile(loss = 'mae', metrics = 'mae', optimizer = optimizer)\n",
    "model.fit(X_train, y_train, epochs = 150, verbose = 0)\n",
    "\n",
    "# Let's evaluate our first attempt at a model\n",
    "model.evaluate(X_train, y_train)\n",
    "model.evaluate(X_test, y_test)\n",
    "\n",
    "pred_train = model.predict(X_train)\n",
    "pred_test = model.predict(X_test)\n",
    "\n",
    "r2_train = r2_score(y_train, pred_train)\n",
    "r2_test = r2_score(y_test, pred_test)\n",
    "\n",
    "print(r2_train, r2_test)"
   ]
  },
  {
   "cell_type": "code",
   "execution_count": 30,
   "metadata": {},
   "outputs": [
    {
     "name": "stdout",
     "output_type": "stream",
     "text": [
      "7/7 [==============================] - 0s 1ms/step - loss: 0.3895 - mae: 0.3895\n",
      "3/3 [==============================] - 0s 2ms/step - loss: 0.3787 - mae: 0.3787\n",
      "7/7 [==============================] - 0s 1ms/step\n",
      "3/3 [==============================] - 0s 1ms/step\n",
      "-0.1272836728518607 -0.1337853410249652\n"
     ]
    }
   ],
   "source": [
    "# This will be the same style of model but with the ELU activation function\n",
    "model = tf.keras.Sequential()\n",
    "\n",
    "model.add(tf.keras.layers.Dense(500, input_shape = (X_train.shape[1],), activation = 'elu'))\n",
    "model.add(tf.keras.layers.Dense(300, activation = 'elu'))\n",
    "model.add(tf.keras.layers.Dense(100, activation = 'elu'))\n",
    "model.add(tf.keras.layers.Dense(20, activation = 'elu'))\n",
    "model.add(tf.keras.layers.Dense(1))\n",
    "\n",
    "# Now I'll compile the model and pick an optimizer\n",
    "optimizer = tf.keras.optimizers.RMSprop(learning_rate = 0.01, rho = 0.8)\n",
    "\n",
    "model.compile(loss = 'mae', metrics = 'mae', optimizer = optimizer)\n",
    "model.fit(X_train, y_train, epochs = 150, verbose = 0)\n",
    "\n",
    "# Let's evaluate our first attempt at a model\n",
    "model.evaluate(X_train, y_train)\n",
    "model.evaluate(X_test, y_test)\n",
    "\n",
    "pred_train = model.predict(X_train)\n",
    "pred_test = model.predict(X_test)\n",
    "\n",
    "r2_train = r2_score(y_train, pred_train)\n",
    "r2_test = r2_score(y_test, pred_test)\n",
    "\n",
    "print(r2_train, r2_test)"
   ]
  },
  {
   "cell_type": "code",
   "execution_count": 31,
   "metadata": {},
   "outputs": [
    {
     "name": "stdout",
     "output_type": "stream",
     "text": [
      "7/7 [==============================] - 0s 1ms/step - loss: 0.3577 - mae: 0.3577\n",
      "3/3 [==============================] - 0s 2ms/step - loss: 0.3475 - mae: 0.3475\n",
      "7/7 [==============================] - 0s 1ms/step\n",
      "3/3 [==============================] - 0s 1ms/step\n",
      "-0.05740506341161611 -0.019486587276862366\n"
     ]
    }
   ],
   "source": [
    "# This will be the same style of model but with a mix of ELU and ReLU activation functions\n",
    "model = tf.keras.Sequential()\n",
    "\n",
    "model.add(tf.keras.layers.Dense(500, input_shape = (X_train.shape[1],), activation = 'relu'))\n",
    "model.add(tf.keras.layers.Dense(300, activation = 'relu'))\n",
    "model.add(tf.keras.layers.Dense(100, activation = 'elu'))\n",
    "model.add(tf.keras.layers.Dense(20, activation = 'elu'))\n",
    "model.add(tf.keras.layers.Dense(1))\n",
    "\n",
    "# Now I'll compile the model and pick an optimizer\n",
    "optimizer = tf.keras.optimizers.RMSprop(learning_rate = 0.01, rho = 0.8)\n",
    "\n",
    "model.compile(loss = 'mae', metrics = 'mae', optimizer = optimizer)\n",
    "model.fit(X_train, y_train, epochs = 150, verbose = 0)\n",
    "\n",
    "# Let's evaluate our first attempt at a model\n",
    "model.evaluate(X_train, y_train)\n",
    "model.evaluate(X_test, y_test)\n",
    "\n",
    "pred_train = model.predict(X_train)\n",
    "pred_test = model.predict(X_test)\n",
    "\n",
    "r2_train = r2_score(y_train, pred_train)\n",
    "r2_test = r2_score(y_test, pred_test)\n",
    "\n",
    "print(r2_train, r2_test)"
   ]
  },
  {
   "cell_type": "markdown",
   "metadata": {},
   "source": [
    "### After thinking about this some more, I realized I should consider trying a different loss function when compiling my models - one for binary classifications.\n",
    "### Since my Adam optimizer above gave the best results, I'm going to attempt to use that optimizer first and see what kind of results I get."
   ]
  },
  {
   "cell_type": "code",
   "execution_count": 32,
   "metadata": {},
   "outputs": [
    {
     "name": "stdout",
     "output_type": "stream",
     "text": [
      "7/7 [==============================] - 0s 1ms/step - loss: 0.5613 - accuracy: 0.6682\n",
      "3/3 [==============================] - 0s 2ms/step - loss: 1.0027 - accuracy: 0.6458\n"
     ]
    },
    {
     "data": {
      "text/plain": [
       "[1.0026775598526, 0.6458333134651184]"
      ]
     },
     "execution_count": 32,
     "metadata": {},
     "output_type": "execute_result"
    }
   ],
   "source": [
    "# Adam optimizer, sigmoid activation function, BinaryCrossEntropy loss function, learning rate 0.1\n",
    "model = tf.keras.Sequential()\n",
    "\n",
    "model.add(tf.keras.layers.Dense(500, input_shape = (X_train.shape[1],), activation = 'relu'))\n",
    "model.add(tf.keras.layers.Dense(300, activation = 'relu'))\n",
    "model.add(tf.keras.layers.Dense(100, activation = 'relu'))\n",
    "model.add(tf.keras.layers.Dense(20, activation = 'relu'))\n",
    "model.add(tf.keras.layers.Dense(1, activation = 'sigmoid'))\n",
    "\n",
    "# Now I'll compile the model and pick an optimizer\n",
    "optimizer = tf.keras.optimizers.Adam(learning_rate = 0.1)\n",
    "\n",
    "model.compile(optimizer = optimizer, loss = tf.keras.losses.BinaryCrossentropy(), metrics=['accuracy'])\n",
    "model.fit(X_train, y_train, epochs = 150, verbose = 0)\n",
    "\n",
    "# Let's evaluate our first attempt at a model\n",
    "model.evaluate(X_train, y_train)\n",
    "model.evaluate(X_test, y_test)"
   ]
  },
  {
   "cell_type": "code",
   "execution_count": 33,
   "metadata": {},
   "outputs": [
    {
     "name": "stdout",
     "output_type": "stream",
     "text": [
      "7/7 [==============================] - 0s 1ms/step - loss: 0.4221 - accuracy: 0.7937\n",
      "3/3 [==============================] - 0s 3ms/step - loss: 1.2887 - accuracy: 0.6667\n"
     ]
    },
    {
     "data": {
      "text/plain": [
       "[1.2886505126953125, 0.6666666865348816]"
      ]
     },
     "execution_count": 33,
     "metadata": {},
     "output_type": "execute_result"
    }
   ],
   "source": [
    "# Adam optimizer, sigmoid activation function, BinaryCrossEntropy loss function, learning rate 0.01\n",
    "model = tf.keras.Sequential()\n",
    "\n",
    "model.add(tf.keras.layers.Dense(500, input_shape = (X_train.shape[1],), activation = 'relu'))\n",
    "model.add(tf.keras.layers.Dense(300, activation = 'relu'))\n",
    "model.add(tf.keras.layers.Dense(100, activation = 'relu'))\n",
    "model.add(tf.keras.layers.Dense(20, activation = 'relu'))\n",
    "model.add(tf.keras.layers.Dense(1, activation = 'sigmoid'))\n",
    "\n",
    "# Now I'll compile the model and pick an optimizer\n",
    "optimizer = tf.keras.optimizers.Adam(learning_rate = 0.01)\n",
    "\n",
    "model.compile(optimizer = optimizer, loss = tf.keras.losses.BinaryCrossentropy(), metrics=['accuracy'])\n",
    "model.fit(X_train, y_train, epochs = 150, verbose = 0)\n",
    "\n",
    "# Let's evaluate our first attempt at a model\n",
    "model.evaluate(X_train, y_train)\n",
    "model.evaluate(X_test, y_test)"
   ]
  },
  {
   "cell_type": "code",
   "execution_count": 39,
   "metadata": {},
   "outputs": [
    {
     "name": "stdout",
     "output_type": "stream",
     "text": [
      "7/7 [==============================] - 0s 1ms/step - loss: 0.4257 - accuracy: 0.7937\n",
      "3/3 [==============================] - 0s 2ms/step - loss: 1.0361 - accuracy: 0.6042\n",
      "7/7 [==============================] - 0s 1ms/step\n"
     ]
    },
    {
     "data": {
      "image/png": "[encoded data removed]",
      "text/plain": [
       "<Figure size 640x480 with 1 Axes>"
      ]
     },
     "metadata": {},
     "output_type": "display_data"
    }
   ],
   "source": [
    "# Adam optimizer, sigmoid activation function, BinaryCrossEntropy loss function, learning rate 0.001\n",
    "model = tf.keras.Sequential()\n",
    "\n",
    "model.add(tf.keras.layers.Dense(500, input_shape = (X_train.shape[1],), activation = 'relu'))\n",
    "model.add(tf.keras.layers.Dense(300, activation = 'relu'))\n",
    "model.add(tf.keras.layers.Dense(100, activation = 'relu'))\n",
    "model.add(tf.keras.layers.Dense(20, activation = 'relu'))\n",
    "model.add(tf.keras.layers.Dense(1, activation = 'sigmoid'))\n",
    "\n",
    "# Now I'll compile the model and pick an optimizer\n",
    "optimizer = tf.keras.optimizers.Adam(learning_rate = 0.001)\n",
    "\n",
    "model.compile(optimizer = optimizer, loss = tf.keras.losses.BinaryCrossentropy(), metrics=['accuracy'])\n",
    "model.fit(X_train, y_train, epochs = 150, verbose = 0)\n",
    "\n",
    "# Let's evaluate our first attempt at a model\n",
    "model.evaluate(X_train, y_train)\n",
    "model.evaluate(X_test, y_test)\n",
    "\n",
    "pred_train = model.predict(X_train)\n",
    "\n",
    "plt.scatter(y_train, pred_train)\n",
    "plt.xlabel('Actual values')\n",
    "plt.ylabel('Predicted values')\n",
    "plt.show()"
   ]
  },
  {
   "cell_type": "markdown",
   "metadata": {},
   "source": [
    "### My numbers above are looking pretty good, but just because I'm curious, I'm going to check to see what they look like with fewer nodes"
   ]
  },
  {
   "cell_type": "code",
   "execution_count": 35,
   "metadata": {},
   "outputs": [
    {
     "name": "stdout",
     "output_type": "stream",
     "text": [
      "7/7 [==============================] - 0s 987us/step - loss: 0.5761 - accuracy: 0.6816\n",
      "3/3 [==============================] - 0s 1ms/step - loss: 0.7371 - accuracy: 0.6354\n"
     ]
    },
    {
     "data": {
      "text/plain": [
       "[0.7371008992195129, 0.6354166865348816]"
      ]
     },
     "execution_count": 35,
     "metadata": {},
     "output_type": "execute_result"
    }
   ],
   "source": [
    "# Adam optimizer, sigmoid activation function, BinaryCrossEntropy loss function, learning rate 0.1\n",
    "model = tf.keras.Sequential()\n",
    "\n",
    "model.add(tf.keras.layers.Dense(32, input_shape = (X_train.shape[1],), activation = 'relu'))\n",
    "model.add(tf.keras.layers.Dense(16, activation = 'relu'))\n",
    "model.add(tf.keras.layers.Dense(8, activation = 'relu'))\n",
    "model.add(tf.keras.layers.Dense(4, activation = 'relu'))\n",
    "model.add(tf.keras.layers.Dense(1, activation = 'sigmoid'))\n",
    "\n",
    "# Now I'll compile the model and pick an optimizer\n",
    "optimizer = tf.keras.optimizers.Adam(learning_rate = 0.1)\n",
    "\n",
    "model.compile(optimizer = optimizer, loss = tf.keras.losses.BinaryCrossentropy(), metrics=['accuracy'])\n",
    "model.fit(X_train, y_train, epochs = 150, verbose = 0)\n",
    "\n",
    "# Let's evaluate our first attempt at a model\n",
    "model.evaluate(X_train, y_train)\n",
    "model.evaluate(X_test, y_test)"
   ]
  },
  {
   "cell_type": "code",
   "execution_count": 36,
   "metadata": {},
   "outputs": [
    {
     "name": "stdout",
     "output_type": "stream",
     "text": [
      "7/7 [==============================] - 0s 1ms/step - loss: 0.4071 - accuracy: 0.7848\n",
      "3/3 [==============================] - 0s 1ms/step - loss: 1.3769 - accuracy: 0.6458\n"
     ]
    },
    {
     "data": {
      "text/plain": [
       "[1.376909613609314, 0.6458333134651184]"
      ]
     },
     "execution_count": 36,
     "metadata": {},
     "output_type": "execute_result"
    }
   ],
   "source": [
    "# Adam optimizer, sigmoid activation function, BinaryCrossEntropy loss function, learning rate 0.01\n",
    "model = tf.keras.Sequential()\n",
    "\n",
    "model.add(tf.keras.layers.Dense(32, input_shape = (X_train.shape[1],), activation = 'relu'))\n",
    "model.add(tf.keras.layers.Dense(16, activation = 'relu'))\n",
    "model.add(tf.keras.layers.Dense(8, activation = 'relu'))\n",
    "model.add(tf.keras.layers.Dense(4, activation = 'relu'))\n",
    "model.add(tf.keras.layers.Dense(1, activation = 'sigmoid'))\n",
    "\n",
    "# Now I'll compile the model and pick an optimizer\n",
    "optimizer = tf.keras.optimizers.Adam(learning_rate = 0.01)\n",
    "\n",
    "model.compile(optimizer = optimizer, loss = tf.keras.losses.BinaryCrossentropy(), metrics=['accuracy'])\n",
    "model.fit(X_train, y_train, epochs = 150, verbose = 0)\n",
    "\n",
    "# Let's evaluate our first attempt at a model\n",
    "model.evaluate(X_train, y_train)\n",
    "model.evaluate(X_test, y_test)"
   ]
  },
  {
   "cell_type": "code",
   "execution_count": 37,
   "metadata": {},
   "outputs": [
    {
     "name": "stdout",
     "output_type": "stream",
     "text": [
      "7/7 [==============================] - 0s 960us/step - loss: 0.6157 - accuracy: 0.6951\n",
      "3/3 [==============================] - 0s 1ms/step - loss: 0.6019 - accuracy: 0.7083\n"
     ]
    },
    {
     "data": {
      "text/plain": [
       "[0.6019003391265869, 0.7083333134651184]"
      ]
     },
     "execution_count": 37,
     "metadata": {},
     "output_type": "execute_result"
    }
   ],
   "source": [
    "# Adam optimizer, sigmoid activation function, BinaryCrossEntropy loss function, learning rate 0.001\n",
    "model = tf.keras.Sequential()\n",
    "\n",
    "model.add(tf.keras.layers.Dense(32, input_shape = (X_train.shape[1],), activation = 'relu'))\n",
    "model.add(tf.keras.layers.Dense(16, activation = 'relu'))\n",
    "model.add(tf.keras.layers.Dense(8, activation = 'relu'))\n",
    "model.add(tf.keras.layers.Dense(4, activation = 'relu'))\n",
    "model.add(tf.keras.layers.Dense(1, activation = 'sigmoid'))\n",
    "\n",
    "# Now I'll compile the model and pick an optimizer\n",
    "optimizer = tf.keras.optimizers.Adam(learning_rate = 0.001)\n",
    "\n",
    "model.compile(optimizer = optimizer, loss = tf.keras.losses.BinaryCrossentropy(), metrics=['accuracy'])\n",
    "model.fit(X_train, y_train, epochs = 150, verbose = 0)\n",
    "\n",
    "# Let's evaluate our first attempt at a model\n",
    "model.evaluate(X_train, y_train)\n",
    "model.evaluate(X_test, y_test)"
   ]
  },
  {
   "cell_type": "markdown",
   "metadata": {},
   "source": [
    "## Conclusion\n",
    "#### I needed to take a break and think about this one for a bit before I figured out a way of improving my model. It makes sense to use a Binary Cross Entropy loss function here, since the value I'm trying to predict is a binary value! It also helped by changing my output layer in my model to 'sigmoid'.\n",
    "\n",
    "#### I played around with all kinds of learning rates, optimizers, number of nodes and activation functions, but my 500-node models ended up having the best accuracy scores. Interestingly, as I decreased the learning rate on this model, my training accuracy went up while my test accuracy went slightly down:\n",
    "##### Learning rate 0.1:\n",
    "    ##### Train accuracy: 0.67, test accuracy: 0.65\n",
    "##### Learning rate 0.01:\n",
    "    ##### Train accuracy: 0.79, test accuracy: 0.67\n",
    "##### Learning rate 0.001:\n",
    "    ##### Train accuracy: 0.83, test accuracy: 0.64\n",
    "    \n",
    "#### I'm slightly concerned about overfitting with this model since the train and test accuracies got further apart as I decreased the learning rate. I think that I could definitely optimize this model more if I play around with it."
   ]
  },
  {
   "cell_type": "code",
   "execution_count": null,
   "metadata": {},
   "outputs": [],
   "source": []
  }
 ],
 "metadata": {
  "kernelspec": {
   "display_name": "Python 3 (ipykernel)",
   "language": "python",
   "name": "python3"
  },
  "language_info": {
   "codemirror_mode": {
    "name": "ipython",
    "version": 3
   },
   "file_extension": ".py",
   "mimetype": "text/x-python",
   "name": "python",
   "nbconvert_exporter": "python",
   "pygments_lexer": "ipython3",
   "version": "3.10.6"
  }
 },
 "nbformat": 4,
 "nbformat_minor": 4
}
